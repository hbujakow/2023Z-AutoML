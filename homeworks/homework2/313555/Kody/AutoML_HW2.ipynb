{
 "cells": [
  {
   "cell_type": "code",
   "execution_count": 69,
   "metadata": {},
   "outputs": [],
   "source": [
    "import warnings\n",
    "\n",
    "import matplotlib.pyplot as plt\n",
    "import numpy as np\n",
    "import pandas as pd\n",
    "import seaborn as sns\n",
    "from sklearn.decomposition import PCA\n",
    "from sklearn.ensemble import RandomForestClassifier\n",
    "from sklearn.linear_model import LogisticRegression\n",
    "from sklearn.metrics import make_scorer\n",
    "from sklearn.model_selection import cross_validate\n",
    "from sklearn.model_selection import GridSearchCV\n",
    "from sklearn.model_selection import StratifiedKFold\n",
    "from sklearn.model_selection import RandomizedSearchCV\n",
    "from sklearn.pipeline import Pipeline\n",
    "from sklearn.preprocessing import StandardScaler\n",
    "from xgboost import XGBClassifier\n",
    "\n",
    "warnings.filterwarnings(\"ignore\")\n",
    "sns.set_theme(style=\"whitegrid\", font_scale=1.1)"
   ]
  },
  {
   "cell_type": "code",
   "execution_count": 2,
   "metadata": {},
   "outputs": [],
   "source": [
    "# miara jakości modeli\n",
    "\n",
    "def _balanced_accuracy(y_true, y_pred):\n",
    "    p = (y_true == 1).sum()\n",
    "    n = (y_true == 1).sum()\n",
    "    tp = ( (y_pred == 1) & (y_true == 1) ).sum()\n",
    "    tn = ( (y_pred == -1) & (y_true == -1) ).sum()\n",
    "    return (tp/p + tn/n) / 2\n",
    "\n",
    "balanced_accuracy = make_scorer(_balanced_accuracy, greater_is_better=True)"
   ]
  },
  {
   "cell_type": "code",
   "execution_count": 3,
   "metadata": {},
   "outputs": [],
   "source": [
    "# wczytanie danych\n",
    "\n",
    "X_train = pd.read_csv(\"../../artificial_train.data\", sep=\" \", header=None).iloc[:, :500]\n",
    "y_train = pd.read_csv(\"../../artificial_train.labels\", sep=\" \", header=None).iloc[:, 0]\n",
    "X_test = pd.read_csv(\"../../artificial_test.data\", sep=\" \", header=None).iloc[:, :500]"
   ]
  },
  {
   "cell_type": "markdown",
   "metadata": {},
   "source": [
    "## Ręcznie przygotowany model"
   ]
  },
  {
   "cell_type": "markdown",
   "metadata": {},
   "source": [
    "### Szybkie spojrzenie na dane"
   ]
  },
  {
   "cell_type": "code",
   "execution_count": 4,
   "metadata": {},
   "outputs": [
    {
     "data": {
      "text/html": [
       "<div>\n",
       "<style scoped>\n",
       "    .dataframe tbody tr th:only-of-type {\n",
       "        vertical-align: middle;\n",
       "    }\n",
       "\n",
       "    .dataframe tbody tr th {\n",
       "        vertical-align: top;\n",
       "    }\n",
       "\n",
       "    .dataframe thead th {\n",
       "        text-align: right;\n",
       "    }\n",
       "</style>\n",
       "<table border=\"1\" class=\"dataframe\">\n",
       "  <thead>\n",
       "    <tr style=\"text-align: right;\">\n",
       "      <th></th>\n",
       "      <th>0</th>\n",
       "      <th>1</th>\n",
       "      <th>2</th>\n",
       "      <th>3</th>\n",
       "      <th>4</th>\n",
       "      <th>5</th>\n",
       "      <th>6</th>\n",
       "      <th>7</th>\n",
       "      <th>8</th>\n",
       "      <th>9</th>\n",
       "      <th>...</th>\n",
       "      <th>490</th>\n",
       "      <th>491</th>\n",
       "      <th>492</th>\n",
       "      <th>493</th>\n",
       "      <th>494</th>\n",
       "      <th>495</th>\n",
       "      <th>496</th>\n",
       "      <th>497</th>\n",
       "      <th>498</th>\n",
       "      <th>499</th>\n",
       "    </tr>\n",
       "  </thead>\n",
       "  <tbody>\n",
       "    <tr>\n",
       "      <th>0</th>\n",
       "      <td>485</td>\n",
       "      <td>477</td>\n",
       "      <td>537</td>\n",
       "      <td>479</td>\n",
       "      <td>452</td>\n",
       "      <td>471</td>\n",
       "      <td>491</td>\n",
       "      <td>476</td>\n",
       "      <td>475</td>\n",
       "      <td>473</td>\n",
       "      <td>...</td>\n",
       "      <td>477</td>\n",
       "      <td>481</td>\n",
       "      <td>477</td>\n",
       "      <td>485</td>\n",
       "      <td>511</td>\n",
       "      <td>485</td>\n",
       "      <td>481</td>\n",
       "      <td>479</td>\n",
       "      <td>475</td>\n",
       "      <td>496</td>\n",
       "    </tr>\n",
       "    <tr>\n",
       "      <th>1</th>\n",
       "      <td>483</td>\n",
       "      <td>458</td>\n",
       "      <td>460</td>\n",
       "      <td>487</td>\n",
       "      <td>587</td>\n",
       "      <td>475</td>\n",
       "      <td>526</td>\n",
       "      <td>479</td>\n",
       "      <td>485</td>\n",
       "      <td>469</td>\n",
       "      <td>...</td>\n",
       "      <td>463</td>\n",
       "      <td>478</td>\n",
       "      <td>487</td>\n",
       "      <td>338</td>\n",
       "      <td>513</td>\n",
       "      <td>486</td>\n",
       "      <td>483</td>\n",
       "      <td>492</td>\n",
       "      <td>510</td>\n",
       "      <td>517</td>\n",
       "    </tr>\n",
       "    <tr>\n",
       "      <th>2</th>\n",
       "      <td>487</td>\n",
       "      <td>542</td>\n",
       "      <td>499</td>\n",
       "      <td>468</td>\n",
       "      <td>448</td>\n",
       "      <td>471</td>\n",
       "      <td>442</td>\n",
       "      <td>478</td>\n",
       "      <td>480</td>\n",
       "      <td>477</td>\n",
       "      <td>...</td>\n",
       "      <td>487</td>\n",
       "      <td>481</td>\n",
       "      <td>492</td>\n",
       "      <td>650</td>\n",
       "      <td>506</td>\n",
       "      <td>501</td>\n",
       "      <td>480</td>\n",
       "      <td>489</td>\n",
       "      <td>499</td>\n",
       "      <td>498</td>\n",
       "    </tr>\n",
       "    <tr>\n",
       "      <th>3</th>\n",
       "      <td>480</td>\n",
       "      <td>491</td>\n",
       "      <td>510</td>\n",
       "      <td>485</td>\n",
       "      <td>495</td>\n",
       "      <td>472</td>\n",
       "      <td>417</td>\n",
       "      <td>474</td>\n",
       "      <td>502</td>\n",
       "      <td>476</td>\n",
       "      <td>...</td>\n",
       "      <td>491</td>\n",
       "      <td>480</td>\n",
       "      <td>474</td>\n",
       "      <td>572</td>\n",
       "      <td>454</td>\n",
       "      <td>469</td>\n",
       "      <td>475</td>\n",
       "      <td>482</td>\n",
       "      <td>494</td>\n",
       "      <td>461</td>\n",
       "    </tr>\n",
       "    <tr>\n",
       "      <th>4</th>\n",
       "      <td>484</td>\n",
       "      <td>502</td>\n",
       "      <td>528</td>\n",
       "      <td>489</td>\n",
       "      <td>466</td>\n",
       "      <td>481</td>\n",
       "      <td>402</td>\n",
       "      <td>478</td>\n",
       "      <td>487</td>\n",
       "      <td>468</td>\n",
       "      <td>...</td>\n",
       "      <td>488</td>\n",
       "      <td>479</td>\n",
       "      <td>452</td>\n",
       "      <td>435</td>\n",
       "      <td>486</td>\n",
       "      <td>508</td>\n",
       "      <td>481</td>\n",
       "      <td>504</td>\n",
       "      <td>495</td>\n",
       "      <td>511</td>\n",
       "    </tr>\n",
       "  </tbody>\n",
       "</table>\n",
       "<p>5 rows × 500 columns</p>\n",
       "</div>"
      ],
      "text/plain": [
       "   0    1    2    3    4    5    6    7    8    9    ...  490  491  492  493  \\\n",
       "0  485  477  537  479  452  471  491  476  475  473  ...  477  481  477  485   \n",
       "1  483  458  460  487  587  475  526  479  485  469  ...  463  478  487  338   \n",
       "2  487  542  499  468  448  471  442  478  480  477  ...  487  481  492  650   \n",
       "3  480  491  510  485  495  472  417  474  502  476  ...  491  480  474  572   \n",
       "4  484  502  528  489  466  481  402  478  487  468  ...  488  479  452  435   \n",
       "\n",
       "   494  495  496  497  498  499  \n",
       "0  511  485  481  479  475  496  \n",
       "1  513  486  483  492  510  517  \n",
       "2  506  501  480  489  499  498  \n",
       "3  454  469  475  482  494  461  \n",
       "4  486  508  481  504  495  511  \n",
       "\n",
       "[5 rows x 500 columns]"
      ]
     },
     "execution_count": 4,
     "metadata": {},
     "output_type": "execute_result"
    }
   ],
   "source": [
    "X_train.head(5)"
   ]
  },
  {
   "cell_type": "code",
   "execution_count": 5,
   "metadata": {},
   "outputs": [
    {
     "data": {
      "text/plain": [
       "False"
      ]
     },
     "execution_count": 5,
     "metadata": {},
     "output_type": "execute_result"
    }
   ],
   "source": [
    "# braki danych\n",
    "X_train.isna().any().any()"
   ]
  },
  {
   "cell_type": "code",
   "execution_count": 6,
   "metadata": {},
   "outputs": [
    {
     "data": {
      "text/plain": [
       "False"
      ]
     },
     "execution_count": 6,
     "metadata": {},
     "output_type": "execute_result"
    }
   ],
   "source": [
    "X_test.isna().any().any()"
   ]
  },
  {
   "cell_type": "code",
   "execution_count": 7,
   "metadata": {},
   "outputs": [
    {
     "data": {
      "text/plain": [
       "-1    1000\n",
       " 1    1000\n",
       "Name: 0, dtype: int64"
      ]
     },
     "execution_count": 7,
     "metadata": {},
     "output_type": "execute_result"
    }
   ],
   "source": [
    "# zmienna celu\n",
    "y_train.value_counts()"
   ]
  },
  {
   "cell_type": "code",
   "execution_count": 29,
   "metadata": {},
   "outputs": [
    {
     "data": {
      "image/png": "[encoded data removed]",
      "text/plain": [
       "<Figure size 864x720 with 7 Axes>"
      ]
     },
     "metadata": {
      "needs_background": "light"
     },
     "output_type": "display_data"
    }
   ],
   "source": [
    "# rozkłady statystyk\n",
    "\n",
    "# zmienne na pierwszy rzut oka wydają się pochodzić z podobnego rozkładu (średnia między 470 i 520)\n",
    "# jednakże, różnią się między sobą wariancją\n",
    "# niektóre zmienne przyjmują znacznie szerszy zakres wartości niż inne\n",
    "\n",
    "describe_df = pd.concat([X_train[col].describe() for col in X_train], axis=1).T.drop(columns=\"count\")\n",
    "\n",
    "fig, axs = plt.subplots(nrows=7, ncols=1, figsize=(12, 10))\n",
    "\n",
    "sns.boxplot(data=describe_df, x=\"mean\", ax=axs[0])\n",
    "sns.boxplot(data=describe_df, x=\"std\", ax=axs[1])\n",
    "sns.boxplot(data=describe_df, x=\"min\", ax=axs[2])\n",
    "sns.boxplot(data=describe_df, x=\"25%\", ax=axs[3])\n",
    "sns.boxplot(data=describe_df, x=\"50%\", ax=axs[4])\n",
    "sns.boxplot(data=describe_df, x=\"75%\", ax=axs[5])\n",
    "sns.boxplot(data=describe_df, x=\"max\", ax=axs[6])\n",
    "\n",
    "plt.subplots_adjust(hspace=3)\n",
    "# plt.suptitle(\"Rozkłady wartości wybranych statystyk obliczonych na treningowym zbiorze danych\", y=0.93, fontsize=14)\n",
    "plt.savefig(\"stats.png\", dpi=300, bbox_inches=\"tight\")\n",
    "plt.show()"
   ]
  },
  {
   "cell_type": "markdown",
   "metadata": {},
   "source": [
    "#### Potencjalne problemy:\n",
    "* modelowi nie uda się wykryć istotnych zmiennych ze zbioru danych\n",
    "* model zbyt mocno dopasuje się do danych treningowych i wynik na zbiorze testowym będzie słaby\n",
    "\n",
    "#### Proponowane rozwiązania:\n",
    "* próba ograniczenia zbioru zmiennych\n",
    "* zastosowanie poczwórnej krosswalidacji (zbiór treningowy nie jest zbyt duży)\n",
    "\n",
    "#### Plan działania:\n",
    "* wytrenowanie modeli na pełnym zbiorze danych:\n",
    "    * regresja LASSO (z mocną regularyzacją)\n",
    "    * las losowy\n",
    "    * xgboost\n",
    "* powtórne zastosowanie modeli lasu losowego i xgboost na najbardziej istotnych zmiennych z regresji\n",
    "* powtórne zastosowanie modeli regfresji, lasu losowego i xgboost na najbardziej istotnych (pod względem *feature importance*) z lasu losowego\n",
    "* przekształcenie danych za pomocą PCA oraz zastosowanie modeli regresji, lasu losowego oraz xgboost na najbardziej znaczących czynnikach\n",
    "* wybór modelu, który osiągnął najlepszy wynik"
   ]
  },
  {
   "cell_type": "markdown",
   "metadata": {},
   "source": [
    "### Trenowanie modeli na pełnym zbiorze danych"
   ]
  },
  {
   "cell_type": "markdown",
   "metadata": {},
   "source": [
    "#### regresja LASSO"
   ]
  },
  {
   "cell_type": "code",
   "execution_count": 9,
   "metadata": {},
   "outputs": [
    {
     "data": {
      "text/plain": [
       "0.615"
      ]
     },
     "execution_count": 9,
     "metadata": {},
     "output_type": "execute_result"
    }
   ],
   "source": [
    "lr_full =  GridSearchCV(\n",
    "    estimator=Pipeline(\n",
    "        [\n",
    "            ('scaler', StandardScaler()), \n",
    "            ('lr', LogisticRegression(penalty=\"l1\", solver=\"liblinear\", max_iter=100, random_state=0)),\n",
    "        ]\n",
    "    ),\n",
    "    param_grid={\n",
    "        \"lr__C\": [0.001, 0.005, 0.01, 0.05, 0.1, 0.5, 1.0]\n",
    "    },\n",
    "    scoring=balanced_accuracy,\n",
    "    cv=StratifiedKFold(n_splits=4, shuffle=True, random_state=0),\n",
    "    n_jobs=-1\n",
    ").fit(X=X_train, y=y_train)\n",
    "\n",
    "lr_full.best_score_"
   ]
  },
  {
   "cell_type": "markdown",
   "metadata": {},
   "source": [
    "#### las losowy"
   ]
  },
  {
   "cell_type": "code",
   "execution_count": 10,
   "metadata": {},
   "outputs": [
    {
     "data": {
      "text/plain": [
       "0.647"
      ]
     },
     "execution_count": 10,
     "metadata": {},
     "output_type": "execute_result"
    }
   ],
   "source": [
    "rf_full = RandomizedSearchCV(\n",
    "    estimator=Pipeline(\n",
    "        [\n",
    "            ('scaler', StandardScaler()), \n",
    "            ('rf', RandomForestClassifier(n_estimators=100, random_state=0)),\n",
    "        ]\n",
    "    ),\n",
    "    param_distributions={\n",
    "        'rf__max_depth': [2, 6, 10, 16, 20],\n",
    "        'rf__min_samples_split': [2, 4, 6, 10, 15, 20],\n",
    "        'rf__min_samples_leaf': [2, 5, 10, 15, 20],\n",
    "        'rf__max_features': [2, 4, 6, 10, \"auto\"],\n",
    "        'rf__max_leaf_nodes': [25, 50, 75, 100],\n",
    "    },\n",
    "    n_iter=300,\n",
    "    random_state=0,\n",
    "    scoring=balanced_accuracy,\n",
    "    cv=StratifiedKFold(n_splits=4, shuffle=True, random_state=0),\n",
    "    n_jobs=-1\n",
    ").fit(X=X_train, y=y_train)\n",
    "\n",
    "rf_full.best_score_"
   ]
  },
  {
   "cell_type": "markdown",
   "metadata": {},
   "source": [
    "#### xgboost"
   ]
  },
  {
   "cell_type": "code",
   "execution_count": 11,
   "metadata": {},
   "outputs": [
    {
     "data": {
      "text/plain": [
       "0.768"
      ]
     },
     "execution_count": 11,
     "metadata": {},
     "output_type": "execute_result"
    }
   ],
   "source": [
    "xgb_full = RandomizedSearchCV(\n",
    "    estimator=Pipeline(\n",
    "        [\n",
    "            ('scaler', StandardScaler()), \n",
    "            ('xgb', XGBClassifier(objective='binary:logistic', n_estimators=100, eval_metric='logloss', random_state=0)),\n",
    "        ]\n",
    "    ),\n",
    "    param_distributions={\n",
    "        'xgb__max_depth': range(2, 10, 2),\n",
    "        'xgb__gamma': np.arange(0, 1.0, 0.2),\n",
    "        'xgb__min_child_weight': range(2, 20, 3),\n",
    "        'xgb__subsample': np.arange(0.2, 1.0, 0.2),\n",
    "        'xgb__colsample_bytree': np.arange(0.2, 1.0, 0.2)\n",
    "    },\n",
    "    n_iter=300,\n",
    "    random_state=0,\n",
    "    scoring=balanced_accuracy,\n",
    "    cv=StratifiedKFold(n_splits=4, shuffle=True, random_state=0),\n",
    "    n_jobs=-1\n",
    ").fit(X=X_train, y=y_train)\n",
    "\n",
    "xgb_full.best_score_"
   ]
  },
  {
   "cell_type": "markdown",
   "metadata": {},
   "source": [
    "### Trenowanie modeli na zbiorze istotnych zmiennych z regresji"
   ]
  },
  {
   "cell_type": "code",
   "execution_count": 12,
   "metadata": {},
   "outputs": [
    {
     "data": {
      "text/html": [
       "<div>\n",
       "<style scoped>\n",
       "    .dataframe tbody tr th:only-of-type {\n",
       "        vertical-align: middle;\n",
       "    }\n",
       "\n",
       "    .dataframe tbody tr th {\n",
       "        vertical-align: top;\n",
       "    }\n",
       "\n",
       "    .dataframe thead th {\n",
       "        text-align: right;\n",
       "    }\n",
       "</style>\n",
       "<table border=\"1\" class=\"dataframe\">\n",
       "  <thead>\n",
       "    <tr style=\"text-align: right;\">\n",
       "      <th></th>\n",
       "      <th>index</th>\n",
       "      <th>coef</th>\n",
       "    </tr>\n",
       "  </thead>\n",
       "  <tbody>\n",
       "    <tr>\n",
       "      <th>0</th>\n",
       "      <td>475</td>\n",
       "      <td>0.2415</td>\n",
       "    </tr>\n",
       "    <tr>\n",
       "      <th>1</th>\n",
       "      <td>48</td>\n",
       "      <td>0.0311</td>\n",
       "    </tr>\n",
       "    <tr>\n",
       "      <th>2</th>\n",
       "      <td>343</td>\n",
       "      <td>0.0000</td>\n",
       "    </tr>\n",
       "    <tr>\n",
       "      <th>3</th>\n",
       "      <td>341</td>\n",
       "      <td>0.0000</td>\n",
       "    </tr>\n",
       "    <tr>\n",
       "      <th>4</th>\n",
       "      <td>340</td>\n",
       "      <td>0.0000</td>\n",
       "    </tr>\n",
       "    <tr>\n",
       "      <th>...</th>\n",
       "      <td>...</td>\n",
       "      <td>...</td>\n",
       "    </tr>\n",
       "    <tr>\n",
       "      <th>495</th>\n",
       "      <td>162</td>\n",
       "      <td>0.0000</td>\n",
       "    </tr>\n",
       "    <tr>\n",
       "      <th>496</th>\n",
       "      <td>161</td>\n",
       "      <td>0.0000</td>\n",
       "    </tr>\n",
       "    <tr>\n",
       "      <th>497</th>\n",
       "      <td>160</td>\n",
       "      <td>0.0000</td>\n",
       "    </tr>\n",
       "    <tr>\n",
       "      <th>498</th>\n",
       "      <td>159</td>\n",
       "      <td>0.0000</td>\n",
       "    </tr>\n",
       "    <tr>\n",
       "      <th>499</th>\n",
       "      <td>499</td>\n",
       "      <td>0.0000</td>\n",
       "    </tr>\n",
       "  </tbody>\n",
       "</table>\n",
       "<p>500 rows × 2 columns</p>\n",
       "</div>"
      ],
      "text/plain": [
       "     index    coef\n",
       "0      475  0.2415\n",
       "1       48  0.0311\n",
       "2      343  0.0000\n",
       "3      341  0.0000\n",
       "4      340  0.0000\n",
       "..     ...     ...\n",
       "495    162  0.0000\n",
       "496    161  0.0000\n",
       "497    160  0.0000\n",
       "498    159  0.0000\n",
       "499    499  0.0000\n",
       "\n",
       "[500 rows x 2 columns]"
      ]
     },
     "execution_count": 12,
     "metadata": {},
     "output_type": "execute_result"
    }
   ],
   "source": [
    "# sprawdzamy współczynniki w modelu regresji\n",
    "# co ciekawe, tylko dwie zmienne mają niezerowy współczynnik\n",
    "\n",
    "coef = lr_full.best_estimator_.steps[1][1].coef_[0]\n",
    "pd.Series(coef, name=\"coef\").abs().sort_values(ascending=False).round(4).reset_index()"
   ]
  },
  {
   "cell_type": "markdown",
   "metadata": {},
   "source": [
    "#### las losowy"
   ]
  },
  {
   "cell_type": "code",
   "execution_count": 13,
   "metadata": {},
   "outputs": [
    {
     "data": {
      "text/plain": [
       "0.6175"
      ]
     },
     "execution_count": 13,
     "metadata": {},
     "output_type": "execute_result"
    }
   ],
   "source": [
    "rf_lasso = RandomizedSearchCV(\n",
    "    estimator=Pipeline(\n",
    "        [\n",
    "            ('scaler', StandardScaler()), \n",
    "            ('rf', RandomForestClassifier(n_estimators=100, random_state=0)),\n",
    "        ]\n",
    "    ),\n",
    "    param_distributions={\n",
    "        'rf__max_depth': [2, 6, 10, 16, 20],\n",
    "        'rf__min_samples_split': [2, 4, 6, 10, 15, 20],\n",
    "        'rf__min_samples_leaf': [2, 5, 10, 15, 20],\n",
    "        'rf__max_features': [2, 4, 6, 10, \"auto\"],\n",
    "        'rf__max_leaf_nodes': [25, 50, 75, 100],\n",
    "    },\n",
    "    n_iter=300,\n",
    "    random_state=0,\n",
    "    scoring=balanced_accuracy,\n",
    "    cv=StratifiedKFold(n_splits=4, shuffle=True, random_state=0),\n",
    "    n_jobs=-1\n",
    ").fit(X=X_train.loc[:, [48, 475]], y=y_train)\n",
    "\n",
    "rf_lasso.best_score_"
   ]
  },
  {
   "cell_type": "markdown",
   "metadata": {},
   "source": [
    "#### xgboost"
   ]
  },
  {
   "cell_type": "code",
   "execution_count": 14,
   "metadata": {},
   "outputs": [
    {
     "data": {
      "text/plain": [
       "0.6050000000000001"
      ]
     },
     "execution_count": 14,
     "metadata": {},
     "output_type": "execute_result"
    }
   ],
   "source": [
    "xgb_lasso = RandomizedSearchCV(\n",
    "    estimator=Pipeline(\n",
    "        [\n",
    "            ('scaler', StandardScaler()), \n",
    "            ('xgb', XGBClassifier(objective='binary:logistic', n_estimators=100, eval_metric='logloss', random_state=0)),\n",
    "        ]\n",
    "    ),\n",
    "    param_distributions={\n",
    "        'xgb__max_depth': range(2, 10, 2),\n",
    "        'xgb__gamma': np.arange(0, 1.0, 0.2),\n",
    "        'xgb__min_child_weight': range(2, 20, 3),\n",
    "        'xgb__subsample': np.arange(0.2, 1.0, 0.2),\n",
    "        'xgb__colsample_bytree': np.arange(0.2, 1.0, 0.2)\n",
    "    },\n",
    "    n_iter=300,\n",
    "    random_state=0,\n",
    "    scoring=balanced_accuracy,\n",
    "    cv=StratifiedKFold(n_splits=4, shuffle=True, random_state=0),\n",
    "    n_jobs=-1\n",
    ").fit(X=X_train.loc[:, [48, 475]], y=y_train)\n",
    "\n",
    "xgb_lasso.best_score_"
   ]
  },
  {
   "cell_type": "markdown",
   "metadata": {},
   "source": [
    "### Trenowanie modeli na zbiorze zmiennych o wysokim *feature_importances_* z modelu lasu losowego"
   ]
  },
  {
   "cell_type": "code",
   "execution_count": 31,
   "metadata": {},
   "outputs": [
    {
     "data": {
      "text/html": [
       "<div>\n",
       "<style scoped>\n",
       "    .dataframe tbody tr th:only-of-type {\n",
       "        vertical-align: middle;\n",
       "    }\n",
       "\n",
       "    .dataframe tbody tr th {\n",
       "        vertical-align: top;\n",
       "    }\n",
       "\n",
       "    .dataframe thead th {\n",
       "        text-align: right;\n",
       "    }\n",
       "</style>\n",
       "<table border=\"1\" class=\"dataframe\">\n",
       "  <thead>\n",
       "    <tr style=\"text-align: right;\">\n",
       "      <th></th>\n",
       "      <th>index</th>\n",
       "      <th>importance</th>\n",
       "    </tr>\n",
       "  </thead>\n",
       "  <tbody>\n",
       "    <tr>\n",
       "      <th>0</th>\n",
       "      <td>241</td>\n",
       "      <td>0.0168</td>\n",
       "    </tr>\n",
       "    <tr>\n",
       "      <th>1</th>\n",
       "      <td>475</td>\n",
       "      <td>0.0153</td>\n",
       "    </tr>\n",
       "    <tr>\n",
       "      <th>2</th>\n",
       "      <td>338</td>\n",
       "      <td>0.0144</td>\n",
       "    </tr>\n",
       "    <tr>\n",
       "      <th>3</th>\n",
       "      <td>105</td>\n",
       "      <td>0.0108</td>\n",
       "    </tr>\n",
       "    <tr>\n",
       "      <th>4</th>\n",
       "      <td>442</td>\n",
       "      <td>0.0104</td>\n",
       "    </tr>\n",
       "    <tr>\n",
       "      <th>...</th>\n",
       "      <td>...</td>\n",
       "      <td>...</td>\n",
       "    </tr>\n",
       "    <tr>\n",
       "      <th>495</th>\n",
       "      <td>280</td>\n",
       "      <td>0.0005</td>\n",
       "    </tr>\n",
       "    <tr>\n",
       "      <th>496</th>\n",
       "      <td>228</td>\n",
       "      <td>0.0004</td>\n",
       "    </tr>\n",
       "    <tr>\n",
       "      <th>497</th>\n",
       "      <td>90</td>\n",
       "      <td>0.0004</td>\n",
       "    </tr>\n",
       "    <tr>\n",
       "      <th>498</th>\n",
       "      <td>423</td>\n",
       "      <td>0.0002</td>\n",
       "    </tr>\n",
       "    <tr>\n",
       "      <th>499</th>\n",
       "      <td>276</td>\n",
       "      <td>0.0002</td>\n",
       "    </tr>\n",
       "  </tbody>\n",
       "</table>\n",
       "<p>500 rows × 2 columns</p>\n",
       "</div>"
      ],
      "text/plain": [
       "     index  importance\n",
       "0      241      0.0168\n",
       "1      475      0.0153\n",
       "2      338      0.0144\n",
       "3      105      0.0108\n",
       "4      442      0.0104\n",
       "..     ...         ...\n",
       "495    280      0.0005\n",
       "496    228      0.0004\n",
       "497     90      0.0004\n",
       "498    423      0.0002\n",
       "499    276      0.0002\n",
       "\n",
       "[500 rows x 2 columns]"
      ]
     },
     "execution_count": 31,
     "metadata": {},
     "output_type": "execute_result"
    }
   ],
   "source": [
    "# sprawdzamy *feature_importances_* w modelu lasu losowego\n",
    "# zmienna 475 jest 2. najważniejsza\n",
    "# zmienna 48 jest 12. z kolei\n",
    "\n",
    "\n",
    "feature_importances_ = rf_full.best_estimator_.steps[1][1].feature_importances_\n",
    "feature_importances_ = pd.Series(feature_importances_, name=\"importance\").abs().sort_values(ascending=False).round(4).reset_index()\n",
    "feature_importances_"
   ]
  },
  {
   "cell_type": "code",
   "execution_count": 34,
   "metadata": {},
   "outputs": [
    {
     "data": {
      "image/png": "[encoded data removed]",
      "text/plain": [
       "<Figure size 1152x288 with 1 Axes>"
      ]
     },
     "metadata": {
      "needs_background": "light"
     },
     "output_type": "display_data"
    }
   ],
   "source": [
    "fig, ax = plt.subplots(1, 1, figsize=(16, 4))\n",
    "\n",
    "sns.lineplot(x=range(500), y=feature_importances_.importance)\n",
    "plt.axvline(x=20, lw=0.5, c=\"r\", ls=\"--\")\n",
    "plt.xlabel(\"Pozycja zmiennej w rankingu feature_importances_\")\n",
    "# plt.title(\"Wartości feature_importances_ z modelu lasu losowego posortowane malejąco\", fontsize=14)\n",
    "plt.savefig(\"feature_importances_.png\", dpi=300, bbox_inches=\"tight\")\n",
    "plt.show()"
   ]
  },
  {
   "cell_type": "code",
   "execution_count": 17,
   "metadata": {},
   "outputs": [],
   "source": [
    "# wyraźny \"łokieć\" około 20. zmiennej\n",
    "# wybieramy te zmienne do dalszej analizy\n",
    "\n",
    "important_features = feature_importances_[\"index\"].iloc[:20]"
   ]
  },
  {
   "cell_type": "markdown",
   "metadata": {},
   "source": [
    "#### regresja LASSO"
   ]
  },
  {
   "cell_type": "code",
   "execution_count": 18,
   "metadata": {},
   "outputs": [
    {
     "data": {
      "text/plain": [
       "0.615"
      ]
     },
     "execution_count": 18,
     "metadata": {},
     "output_type": "execute_result"
    }
   ],
   "source": [
    "lr_fi =  GridSearchCV(\n",
    "    estimator=Pipeline(\n",
    "        [\n",
    "            ('scaler', StandardScaler()), \n",
    "            ('lr', LogisticRegression(penalty=\"l1\", solver=\"liblinear\", max_iter=100, random_state=0)),\n",
    "        ]\n",
    "    ),\n",
    "    param_grid={\n",
    "        \"lr__C\": [0.001, 0.005, 0.01, 0.05, 0.1, 0.5, 1.0]\n",
    "    },\n",
    "    scoring=balanced_accuracy,\n",
    "    cv=StratifiedKFold(n_splits=4, shuffle=True, random_state=0),\n",
    "    n_jobs=-1\n",
    ").fit(X=X_train.loc[:, important_features], y=y_train)\n",
    "\n",
    "lr_fi.best_score_"
   ]
  },
  {
   "cell_type": "markdown",
   "metadata": {},
   "source": [
    "#### las losowy"
   ]
  },
  {
   "cell_type": "code",
   "execution_count": 19,
   "metadata": {},
   "outputs": [
    {
     "data": {
      "text/plain": [
       "0.874"
      ]
     },
     "execution_count": 19,
     "metadata": {},
     "output_type": "execute_result"
    }
   ],
   "source": [
    "rf_fi = RandomizedSearchCV(\n",
    "    estimator=Pipeline(\n",
    "        [\n",
    "            ('scaler', StandardScaler()), \n",
    "            ('rf', RandomForestClassifier(n_estimators=100, random_state=0)),\n",
    "        ]\n",
    "    ),\n",
    "    param_distributions={\n",
    "        'rf__max_depth': [2, 6, 10, 16, 20],\n",
    "        'rf__min_samples_split': [2, 4, 6, 10, 15, 20],\n",
    "        'rf__min_samples_leaf': [2, 5, 10, 15, 20],\n",
    "        'rf__max_features': [2, 4, 6, 10, \"auto\"],\n",
    "        'rf__max_leaf_nodes': [25, 50, 75, 100],\n",
    "    },\n",
    "    n_iter=300,\n",
    "    random_state=0,\n",
    "    scoring=balanced_accuracy,\n",
    "    cv=StratifiedKFold(n_splits=4, shuffle=True, random_state=0),\n",
    "    n_jobs=-1\n",
    ").fit(X=X_train.loc[:, important_features], y=y_train)\n",
    "\n",
    "rf_fi.best_score_"
   ]
  },
  {
   "cell_type": "markdown",
   "metadata": {},
   "source": [
    "#### xgboost"
   ]
  },
  {
   "cell_type": "code",
   "execution_count": 20,
   "metadata": {},
   "outputs": [
    {
     "data": {
      "text/plain": [
       "0.8674999999999999"
      ]
     },
     "execution_count": 20,
     "metadata": {},
     "output_type": "execute_result"
    }
   ],
   "source": [
    "xgb_fi = RandomizedSearchCV(\n",
    "    estimator=Pipeline(\n",
    "        [\n",
    "            ('scaler', StandardScaler()), \n",
    "            ('xgb', XGBClassifier(objective='binary:logistic', n_estimators=100, eval_metric='logloss', random_state=0)),\n",
    "        ]\n",
    "    ),\n",
    "    param_distributions={\n",
    "        'xgb__max_depth': range(2, 10, 2),\n",
    "        'xgb__gamma': np.arange(0, 1.0, 0.2),\n",
    "        'xgb__min_child_weight': range(2, 20, 3),\n",
    "        'xgb__subsample': np.arange(0.2, 1.0, 0.2),\n",
    "        'xgb__colsample_bytree': np.arange(0.2, 1.0, 0.2)\n",
    "    },\n",
    "    n_iter=300,\n",
    "    random_state=0,\n",
    "    scoring=balanced_accuracy,\n",
    "    cv=StratifiedKFold(n_splits=4, shuffle=True, random_state=0),\n",
    "    n_jobs=-1\n",
    ").fit(X=X_train.loc[:, important_features], y=y_train)\n",
    "\n",
    "xgb_fi.best_score_"
   ]
  },
  {
   "cell_type": "markdown",
   "metadata": {},
   "source": [
    "### Trenowanie modeli na zbiorze przekształconym przez PCA"
   ]
  },
  {
   "cell_type": "code",
   "execution_count": 35,
   "metadata": {},
   "outputs": [
    {
     "data": {
      "image/png": "[encoded data removed]",
      "text/plain": [
       "<Figure size 1152x288 with 1 Axes>"
      ]
     },
     "metadata": {
      "needs_background": "light"
     },
     "output_type": "display_data"
    }
   ],
   "source": [
    "pca = PCA(random_state=0).fit(X_train)\n",
    "\n",
    "fig, ax = plt.subplots(1, 1, figsize=(16, 4))\n",
    "\n",
    "sns.lineplot(x=range(500), y=pca.explained_variance_ratio_)\n",
    "plt.axvline(x=5, lw=0.5, c=\"r\", ls=\"--\")\n",
    "plt.ylabel(\"Procent wyjaśnianej wariancji\")\n",
    "plt.xlabel(\"Pozycja zmiennej w rankingu pod względem części wyjaśnianej wariancji\")\n",
    "# plt.title(\"Wartości explained_variance_ratio_ z transformatora PCA posortowane malejąco\", fontsize=14)\n",
    "plt.savefig(\"explained_variance_ratio_.png\", dpi=300, bbox_inches=\"tight\")\n",
    "plt.show()\n",
    "\n",
    "# wyraźny \"łokieć\" około 5. zmiennej"
   ]
  },
  {
   "cell_type": "markdown",
   "metadata": {},
   "source": [
    "#### regresja LASSO"
   ]
  },
  {
   "cell_type": "code",
   "execution_count": 22,
   "metadata": {},
   "outputs": [
    {
     "data": {
      "text/plain": [
       "0.612"
      ]
     },
     "execution_count": 22,
     "metadata": {},
     "output_type": "execute_result"
    }
   ],
   "source": [
    "lr_pca =  GridSearchCV(\n",
    "    estimator=Pipeline(\n",
    "        [\n",
    "            ('pca', PCA(n_components=5, random_state=0)), \n",
    "            ('lr', LogisticRegression(penalty=\"l1\", solver=\"liblinear\", max_iter=100, random_state=0)),\n",
    "        ]\n",
    "    ),\n",
    "    param_grid={\n",
    "        \"lr__C\": [0.001, 0.005, 0.01, 0.05, 0.1, 0.5, 1.0]\n",
    "    },\n",
    "    scoring=balanced_accuracy,\n",
    "    cv=StratifiedKFold(n_splits=4, shuffle=True, random_state=0),\n",
    "    n_jobs=-1\n",
    ").fit(X=X_train, y=y_train)\n",
    "\n",
    "lr_pca.best_score_"
   ]
  },
  {
   "cell_type": "markdown",
   "metadata": {},
   "source": [
    "#### las losowy"
   ]
  },
  {
   "cell_type": "code",
   "execution_count": 28,
   "metadata": {},
   "outputs": [
    {
     "data": {
      "text/plain": [
       "0.849"
      ]
     },
     "execution_count": 28,
     "metadata": {},
     "output_type": "execute_result"
    }
   ],
   "source": [
    "rf_pca = RandomizedSearchCV(\n",
    "    estimator=Pipeline(\n",
    "        [\n",
    "            ('pca', PCA(n_components=5, random_state=0)), \n",
    "            ('rf', RandomForestClassifier(n_estimators=100, random_state=0)),\n",
    "        ]\n",
    "    ),\n",
    "    param_distributions={\n",
    "        'rf__max_depth': [2, 6, 10, 16, 20],\n",
    "        'rf__min_samples_split': [2, 4, 6, 10, 15, 20],\n",
    "        'rf__min_samples_leaf': [2, 5, 10, 15, 20],\n",
    "        'rf__max_features': [2, 4, 6, 10, \"auto\"],\n",
    "        'rf__max_leaf_nodes': [25, 50, 75, 100],\n",
    "    },\n",
    "    n_iter=300,\n",
    "    random_state=0,\n",
    "    scoring=balanced_accuracy,\n",
    "    cv=StratifiedKFold(n_splits=4, shuffle=True, random_state=0),\n",
    "    n_jobs=-1\n",
    ").fit(X=X_train, y=y_train)\n",
    "\n",
    "rf_pca.best_score_"
   ]
  },
  {
   "cell_type": "markdown",
   "metadata": {},
   "source": [
    "#### xgboost"
   ]
  },
  {
   "cell_type": "code",
   "execution_count": 24,
   "metadata": {},
   "outputs": [
    {
     "data": {
      "text/plain": [
       "0.8514999999999999"
      ]
     },
     "execution_count": 24,
     "metadata": {},
     "output_type": "execute_result"
    }
   ],
   "source": [
    "xgb_pca = RandomizedSearchCV(\n",
    "    estimator=Pipeline(\n",
    "        [\n",
    "            ('pca', PCA(n_components=5, random_state=0)), \n",
    "            ('xgb', XGBClassifier(objective='binary:logistic', n_estimators=100, eval_metric='logloss', random_state=0)),\n",
    "        ]\n",
    "    ),\n",
    "    param_distributions={\n",
    "        'xgb__max_depth': range(2, 10, 2),\n",
    "        'xgb__gamma': np.arange(0, 1.0, 0.2),\n",
    "        'xgb__min_child_weight': range(2, 20, 3),\n",
    "        'xgb__subsample': np.arange(0.2, 1.0, 0.2),\n",
    "        'xgb__colsample_bytree': np.arange(0.2, 1.0, 0.2)\n",
    "    },\n",
    "    n_iter=300,\n",
    "    random_state=0,\n",
    "    scoring=balanced_accuracy,\n",
    "    cv=StratifiedKFold(n_splits=4, shuffle=True, random_state=0),\n",
    "    n_jobs=-1\n",
    ").fit(X=X_train, y=y_train)\n",
    "\n",
    "xgb_pca.best_score_"
   ]
  },
  {
   "cell_type": "markdown",
   "metadata": {},
   "source": [
    "### Wybór najlepszego modelu"
   ]
  },
  {
   "cell_type": "code",
   "execution_count": 50,
   "metadata": {},
   "outputs": [
    {
     "data": {
      "text/plain": [
       "{'rf__min_samples_split': 6,\n",
       " 'rf__min_samples_leaf': 2,\n",
       " 'rf__max_leaf_nodes': 100,\n",
       " 'rf__max_features': 6,\n",
       " 'rf__max_depth': 16}"
      ]
     },
     "execution_count": 50,
     "metadata": {},
     "output_type": "execute_result"
    }
   ],
   "source": [
    "# hiperparametry najlepszego modelu\n",
    "rf_fi.best_params_"
   ]
  },
  {
   "cell_type": "code",
   "execution_count": 88,
   "metadata": {},
   "outputs": [
    {
     "data": {
      "text/plain": [
       "array([0.856, 0.87 , 0.866, 0.858])"
      ]
     },
     "execution_count": 88,
     "metadata": {},
     "output_type": "execute_result"
    }
   ],
   "source": [
    "# poprawiamy hiperparametry najlepszego modelu, tak, aby zmiejszyć ryzyko zbyt mocnego dopasowania\n",
    "final_model_cv = cross_validate(\n",
    "    estimator=Pipeline(\n",
    "        [\n",
    "            (\"scaler\", StandardScaler()),\n",
    "            (\n",
    "                \"rf\",\n",
    "                RandomForestClassifier(\n",
    "                    n_estimators=1000,\n",
    "                    random_state=0,\n",
    "                    min_samples_split=8,\n",
    "                    min_samples_leaf=4,\n",
    "                    max_leaf_nodes=50,\n",
    "                    max_features=6,\n",
    "                    max_depth=12\n",
    "                ),\n",
    "            ),\n",
    "        ]\n",
    "    ),\n",
    "    X=X_train.loc[:, important_features],\n",
    "    y=y_train,\n",
    "    scoring=balanced_accuracy,\n",
    "    cv=StratifiedKFold(n_splits=4, shuffle=True, random_state=0),\n",
    "    n_jobs=-1,\n",
    "    return_estimator=True\n",
    ")\n",
    "\n",
    "final_model_cv[\"test_score\"]"
   ]
  },
  {
   "cell_type": "code",
   "execution_count": 89,
   "metadata": {},
   "outputs": [],
   "source": [
    "# najlepszy model z cross-walidacji\n",
    "final_model = final_model_cv[\"estimator\"][2]"
   ]
  },
  {
   "cell_type": "code",
   "execution_count": 112,
   "metadata": {},
   "outputs": [],
   "source": [
    "# zapisanie wyników\n",
    "pd.Series(\n",
    "    final_model.predict_proba(X_test.loc[:, important_features])[:, 1],\n",
    "    name=\"313555\"\n",
    ").to_csv(\"../313555_artifical_model_prediction.txt\", index=False)"
   ]
  },
  {
   "cell_type": "markdown",
   "metadata": {},
   "source": [
    "## Model przygotowany za pomocą autoMLowej biblioteki `flaml`"
   ]
  },
  {
   "cell_type": "code",
   "execution_count": 5,
   "metadata": {},
   "outputs": [],
   "source": [
    "from flaml import AutoML\n",
    "from flaml.automl.data import get_output_from_log"
   ]
  },
  {
   "cell_type": "code",
   "execution_count": 7,
   "metadata": {},
   "outputs": [],
   "source": [
    "def balanced_accuracy_automl(\n",
    "    X_val, y_val, estimator, labels,\n",
    "    X_train, y_train, weight_val=None, weight_train=None,\n",
    "    *args,\n",
    "):\n",
    "    y_pred = estimator.predict(X_val)\n",
    "    metric_value = _balanced_accuracy(y_val, y_pred)\n",
    "    return 1 - metric_value, {\"balanced_accuracy\": metric_value}"
   ]
  },
  {
   "cell_type": "code",
   "execution_count": null,
   "metadata": {},
   "outputs": [],
   "source": [
    "# drobne oszustwo - skalujemy dane\n",
    "# bibliteka flaml tego nie czyni, przez co niektóre modele (np. regresja) nie zbiegają\n",
    "scaler = StandardScaler().fit(X_train)\n",
    "\n",
    "automl = AutoML()\n",
    "automl.fit(\n",
    "    scaler.transform(X_train), \n",
    "    y_train, \n",
    "    task=\"classification\",\n",
    "    metric=balanced_accuracy_automl,\n",
    "    max_iter=500,\n",
    "    log_file_name=\"automl.log\",\n",
    "    ensemble=True,\n",
    "    eval_method=\"cv\",\n",
    ")"
   ]
  },
  {
   "cell_type": "code",
   "execution_count": 14,
   "metadata": {},
   "outputs": [
    {
     "data": {
      "text/plain": [
       "'xgb_limitdepth'"
      ]
     },
     "execution_count": 14,
     "metadata": {},
     "output_type": "execute_result"
    }
   ],
   "source": [
    "# najlepszy estymator\n",
    "automl.best_estimator"
   ]
  },
  {
   "cell_type": "code",
   "execution_count": 23,
   "metadata": {},
   "outputs": [
    {
     "data": {
      "text/plain": [
       "{'pred_time': 0.0,\n",
       " 'wall_clock_time': 2768.0770699977875,\n",
       " 'metric_for_logging': {'balanced_accuracy': 0.43100000000000005},\n",
       " 'val_loss': 0.5690000000000001,\n",
       " 'training_iteration': 1,\n",
       " 'config': {'n_estimators': 140,\n",
       "  'max_depth': 8,\n",
       "  'min_child_weight': 0.0017016439004551706,\n",
       "  'learning_rate': 0.04110805315863727,\n",
       "  'subsample': 1.0,\n",
       "  'colsample_bylevel': 0.41500805283017983,\n",
       "  'colsample_bytree': 0.8733398060540724,\n",
       "  'reg_alpha': 0.008312402556375073,\n",
       "  'reg_lambda': 0.0010060633605285527},\n",
       " 'config/n_estimators': 140,\n",
       " 'config/max_depth': 8,\n",
       " 'config/min_child_weight': 0.0017016439004551706,\n",
       " 'config/learning_rate': 0.04110805315863727,\n",
       " 'config/subsample': 1.0,\n",
       " 'config/colsample_bylevel': 0.41500805283017983,\n",
       " 'config/colsample_bytree': 0.8733398060540724,\n",
       " 'config/reg_alpha': 0.008312402556375073,\n",
       " 'config/reg_lambda': 0.0010060633605285527,\n",
       " 'experiment_tag': 'exp',\n",
       " 'time_total_s': 27.8836567401886}"
      ]
     },
     "execution_count": 23,
     "metadata": {},
     "output_type": "execute_result"
    }
   ],
   "source": [
    "# wyniki + hiperparametry\n",
    "automl.best_result"
   ]
  },
  {
   "cell_type": "code",
   "execution_count": 24,
   "metadata": {},
   "outputs": [
    {
     "data": {
      "text/plain": [
       "dict_keys(['lgbm', 'rf', 'xgboost', 'extra_tree', 'xgb_limitdepth', 'lrl1'])"
      ]
     },
     "execution_count": 24,
     "metadata": {},
     "output_type": "execute_result"
    }
   ],
   "source": [
    "# testowane modele\n",
    "automl.best_config_per_estimator.keys()"
   ]
  },
  {
   "cell_type": "code",
   "execution_count": 19,
   "metadata": {},
   "outputs": [
    {
     "data": {
      "image/png": "[encoded data removed]",
      "text/plain": [
       "<Figure size 1600x400 with 1 Axes>"
      ]
     },
     "metadata": {},
     "output_type": "display_data"
    }
   ],
   "source": [
    "# learing curve\n",
    "time_history, best_valid_loss_history, _, _, _ = get_output_from_log(filename=\"automl.log\", time_budget=5000)\n",
    "\n",
    "fig, ax = plt.subplots(1, 1, figsize=(16, 4))\n",
    "\n",
    "# plt.title(\"Learning Curve\")\n",
    "plt.xlabel(\"Wall Clock Time (s)\")\n",
    "plt.ylabel(\"Balanced Accuracy\")\n",
    "plt.step(time_history, 1 - np.array(best_valid_loss_history), where=\"post\")\n",
    "plt.savefig(\"learning_curve.png\", dpi=300, bbox_inches=\"tight\")\n",
    "plt.show()"
   ]
  },
  {
   "cell_type": "code",
   "execution_count": 33,
   "metadata": {},
   "outputs": [],
   "source": [
    "# zapisanie wyników\n",
    "pd.Series(\n",
    "    automl.model.predict_proba(scaler.transform(X_test))[:, 1],\n",
    "    name=\"313555\"\n",
    ").to_csv(\"../313555_artifical_automl_prediction.txt\", index=False)"
   ]
  }
 ],
 "metadata": {
  "kernelspec": {
   "display_name": "Python 3",
   "language": "python",
   "name": "python3"
  },
  "language_info": {
   "codemirror_mode": {
    "name": "ipython",
    "version": 3
   },
   "file_extension": ".py",
   "mimetype": "text/x-python",
   "name": "python",
   "nbconvert_exporter": "python",
   "pygments_lexer": "ipython3",
   "version": "3.10.11"
  }
 },
 "nbformat": 4,
 "nbformat_minor": 2
}
