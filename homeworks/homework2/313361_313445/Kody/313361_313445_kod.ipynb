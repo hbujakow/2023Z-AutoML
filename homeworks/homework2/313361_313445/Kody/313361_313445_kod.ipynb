{
 "cells":[
  {
   "cell_type":"markdown",
   "source":[
    "# AutoML - Praca Domowa nr 2"
   ],
   "attachments":{
    
   },
   "metadata":{
    "datalore":{
     "node_id":"crjzjaKOSEckxLBO9r4kFO",
     "type":"MD",
     "hide_input_from_viewers":true,
     "hide_output_from_viewers":true
    }
   }
  },
  {
   "cell_type":"code",
   "source":[
    "from typing import Tuple, Any, Callable, Iterable\n",
    "from datetime import datetime\n",
    "import os\n",
    "import json\n",
    "\n",
    "import numpy as np\n",
    "import pandas as pd\n",
    "import matplotlib.pyplot as plt\n",
    "\n",
    "from sklearn.model_selection import train_test_split\n",
    "from sklearn.preprocessing import MinMaxScaler\n",
    "from sklearn.impute import SimpleImputer\n",
    "from sklearn.pipeline import Pipeline\n",
    "from sklearn.decomposition import PCA\n",
    "from sklearn.metrics import confusion_matrix\n",
    "\n",
    "from skopt import BayesSearchCV\n",
    "from skopt.space import Real, Integer"
   ],
   "execution_count":3,
   "outputs":[
    
   ],
   "metadata":{
    "datalore":{
     "node_id":"Xj16h71VujBbmJGfU5SNVr",
     "type":"CODE",
     "hide_input_from_viewers":true,
     "hide_output_from_viewers":true
    }
   }
  },
  {
   "cell_type":"code",
   "source":[
    "# for BayesSearchCV to work:\n",
    "np.int = np.int64"
   ],
   "execution_count":4,
   "outputs":[
    
   ],
   "metadata":{
    "datalore":{
     "node_id":"e7aw3fBurIyuCpymDx3iz7",
     "type":"CODE",
     "hide_input_from_viewers":true,
     "hide_output_from_viewers":true
    }
   }
  },
  {
   "cell_type":"markdown",
   "source":[
    "# Wczytywanie danych"
   ],
   "attachments":{
    
   },
   "metadata":{
    "datalore":{
     "node_id":"G11LO0GHIk2hi8IvqZVWeg",
     "type":"MD",
     "hide_input_from_viewers":true,
     "hide_output_from_viewers":true
    }
   }
  },
  {
   "cell_type":"code",
   "source":[
    "x_train = pd.read_csv('data\/artificial_train.data',  sep=' ', header=None)\n",
    "x_train = x_train.iloc[:, :-1]"
   ],
   "execution_count":5,
   "outputs":[
    
   ],
   "metadata":{
    "datalore":{
     "node_id":"N3MlHbRfVTiSmqkwnI4jFe",
     "type":"CODE",
     "hide_input_from_viewers":true,
     "hide_output_from_viewers":true
    }
   }
  },
  {
   "cell_type":"code",
   "source":[
    "y_train = pd.read_csv('data\/artificial_train.labels', header=None)\n",
    "# update labelling for XGB to work\n",
    "y_train[y_train == -1] = 0\n",
    "# convert to a flat array for RF to work\n",
    "y_train = y_train.values.ravel()"
   ],
   "execution_count":6,
   "outputs":[
    
   ],
   "metadata":{
    "datalore":{
     "node_id":"qkAYQtfeU79kdjS4QLvIX1",
     "type":"CODE",
     "hide_input_from_viewers":true,
     "hide_output_from_viewers":true
    }
   }
  },
  {
   "cell_type":"code",
   "source":[
    "x_test = pd.read_csv('data\/artificial_test.data',  sep=' ', header=None)\n",
    "x_test = x_test.iloc[:, :-1]"
   ],
   "execution_count":7,
   "outputs":[
    
   ],
   "metadata":{
    "datalore":{
     "node_id":"A4W8Wu5YrlVZnULUklQY2b",
     "type":"CODE",
     "hide_input_from_viewers":true,
     "hide_output_from_viewers":true
    }
   }
  },
  {
   "cell_type":"code",
   "source":[
    "x_train.info()"
   ],
   "execution_count":8,
   "outputs":[
    {
     "name":"stdout",
     "text":[
      "<class 'pandas.core.frame.DataFrame'>\n",
      "RangeIndex: 2000 entries, 0 to 1999\n",
      "Columns: 500 entries, 0 to 499\n",
      "dtypes: int64(500)\n",
      "memory usage: 7.6 MB\n"
     ],
     "output_type":"stream"
    }
   ],
   "metadata":{
    "datalore":{
     "node_id":"NCQJ1cEZp9B29Xr8DOgS8a",
     "type":"CODE",
     "hide_input_from_viewers":true,
     "hide_output_from_viewers":true
    }
   }
  },
  {
   "cell_type":"code",
   "source":[
    "x_test.info()"
   ],
   "execution_count":12,
   "outputs":[
    {
     "name":"stdout",
     "text":[
      "<class 'pandas.core.frame.DataFrame'>\n",
      "RangeIndex: 600 entries, 0 to 599\n",
      "Columns: 500 entries, 0 to 499\n",
      "dtypes: int64(500)\n",
      "memory usage: 2.3 MB\n"
     ],
     "output_type":"stream"
    }
   ],
   "metadata":{
    "datalore":{
     "node_id":"8ZW8cniknn3bMeVv1nb1ll",
     "type":"CODE",
     "hide_input_from_viewers":true,
     "hide_output_from_viewers":true
    }
   }
  },
  {
   "cell_type":"code",
   "source":[
    "unique, counts = np.unique(y_train, return_counts=True)\n",
    "print(np.asarray((unique, counts)).T)"
   ],
   "execution_count":11,
   "outputs":[
    {
     "name":"stdout",
     "text":[
      "[[   0 1000]\n",
      " [   1 1000]]\n"
     ],
     "output_type":"stream"
    }
   ],
   "metadata":{
    "datalore":{
     "node_id":"sLwV0wQGFq9XH4l7A26uB6",
     "type":"CODE",
     "hide_input_from_viewers":true,
     "hide_output_from_viewers":true
    }
   }
  },
  {
   "cell_type":"markdown",
   "source":[
    "## Podział na zbiór treningowy i walidacyjny"
   ],
   "attachments":{
    
   },
   "metadata":{
    "datalore":{
     "node_id":"tO9G2WfKErfkO3hFerPuWp",
     "type":"MD",
     "hide_input_from_viewers":true,
     "hide_output_from_viewers":true
    }
   }
  },
  {
   "cell_type":"code",
   "source":[
    "x_train, x_val, y_train, y_val = train_test_split(x_train, y_train, test_size=0.20, random_state=123)"
   ],
   "execution_count":20,
   "outputs":[
    
   ],
   "metadata":{
    "datalore":{
     "node_id":"YZJIxshiF7EaXWRtTzNsCE",
     "type":"CODE",
     "hide_input_from_viewers":true,
     "hide_output_from_viewers":true
    }
   }
  },
  {
   "cell_type":"markdown",
   "source":[
    "## Funkcja do liczenia balanced accuracy"
   ],
   "attachments":{
    
   },
   "metadata":{
    "datalore":{
     "node_id":"Rb7pO9FUOe07RyXLpWLi0p",
     "type":"MD",
     "hide_input_from_viewers":true,
     "hide_output_from_viewers":true
    }
   }
  },
  {
   "cell_type":"code",
   "source":[
    "def calculate_balanced_accuracy(y_true_, y_pred_):\n",
    "    cm = confusion_matrix(y_true_, y_pred_)\n",
    "    sensitivity = cm[1,1] \/ (cm[1,0] + cm[1,1]) # True Positive rate\n",
    "    specificity = cm[0,0] \/ (cm[0,0] + cm[0,1]) # True Negative rate\n",
    "    balanced_accuracy = (sensitivity + specificity) \/ 2\n",
    "    return balanced_accuracy"
   ],
   "execution_count":21,
   "outputs":[
    
   ],
   "metadata":{
    "datalore":{
     "node_id":"cP5vBv04chYhmHaDAF787B",
     "type":"CODE",
     "hide_input_from_viewers":true,
     "hide_output_from_viewers":true
    }
   }
  },
  {
   "cell_type":"markdown",
   "source":[
    "## Funkcja do zapisywania predykcji"
   ],
   "attachments":{
    
   },
   "metadata":{
    "datalore":{
     "node_id":"zl4Th0avxpsVQZqMVqgNvx",
     "type":"MD",
     "hide_input_from_viewers":true,
     "hide_output_from_viewers":true
    }
   }
  },
  {
   "cell_type":"code",
   "source":[
    "def save_prediction(pred_func: Callable[[pd.DataFrame], Iterable], \n",
    "                    save_path: str,\n",
    "                    test_data: pd.DataFrame) -> None:\n",
    "    # predictions have to be probabilities of an observation belonging to each class\n",
    "    prediction = pred_func(test_data)\n",
    "    os.makedirs(os.path.dirname(save_path), exist_ok=True)\n",
    "    with open(save_path, 'w') as file:\n",
    "        file.write('\"313361_313445\"\\n')\n",
    "        for pred_val in prediction:\n",
    "            # the second element should be a probability of belonging to class 1\n",
    "            file.write(f'{pred_val[1]}\\n')"
   ],
   "execution_count":22,
   "outputs":[
    
   ],
   "metadata":{
    "datalore":{
     "node_id":"0zdCXehF0sqAIfG0aFG956",
     "type":"CODE",
     "hide_input_from_viewers":true,
     "hide_output_from_viewers":true
    }
   }
  },
  {
   "cell_type":"markdown",
   "source":[
    "# 1. Wariant ręczny"
   ],
   "attachments":{
    
   },
   "metadata":{
    "datalore":{
     "node_id":"Z7Myrcqgk2zUPb2k7a8ScY",
     "type":"MD",
     "hide_input_from_viewers":true,
     "hide_output_from_viewers":true
    }
   }
  },
  {
   "cell_type":"markdown",
   "source":[
    "## Ograniczenie liczby kolumn na bazie niskiej korelacji ze zmienną celu w danych treningowych"
   ],
   "attachments":{
    
   },
   "metadata":{
    "datalore":{
     "node_id":"DOy5uKKDcZqSMQKoSBeoqo",
     "type":"MD",
     "hide_input_from_viewers":true,
     "hide_output_from_viewers":true
    }
   }
  },
  {
   "cell_type":"code",
   "source":[
    "train_data = x_train.copy()\n",
    "train_data['target'] = y_train.copy()\n",
    "\n",
    "correlation_matrix = train_data.corr(method='spearman')\n",
    "\n",
    "num_features_to_remove = int(0.25 * len(correlation_matrix))\n",
    "low_corr_features = correlation_matrix['target'].abs().nsmallest(num_features_to_remove).index\n",
    "\n",
    "train_data_filtered = train_data.drop(low_corr_features, axis=1)\n",
    "x_train_filtered = train_data_filtered.drop(columns=['target']) "
   ],
   "execution_count":23,
   "outputs":[
    
   ],
   "metadata":{
    "datalore":{
     "node_id":"qq9kGXeOsUobkIiywjbL5K",
     "type":"CODE",
     "hide_input_from_viewers":true,
     "hide_output_from_viewers":true
    }
   }
  },
  {
   "cell_type":"code",
   "source":[
    "x_val_filtered = x_val.drop(low_corr_features, axis=1)"
   ],
   "execution_count":24,
   "outputs":[
    
   ],
   "metadata":{
    "datalore":{
     "node_id":"mmmgZ75GCYRldbCaxJDsAO",
     "type":"CODE",
     "hide_input_from_viewers":true,
     "hide_output_from_viewers":true
    }
   }
  },
  {
   "cell_type":"code",
   "source":[
    "x_test_filtered = x_test.drop([int(f) for f in low_corr_features], axis=1)"
   ],
   "execution_count":25,
   "outputs":[
    
   ],
   "metadata":{
    "datalore":{
     "node_id":"4EStLxvvbcd1jPcMr9u0WD",
     "type":"CODE",
     "hide_input_from_viewers":true,
     "hide_output_from_viewers":true
    }
   }
  },
  {
   "cell_type":"markdown",
   "source":[
    "## Wybranie wymiarowości przestrzeni w PCA"
   ],
   "attachments":{
    
   },
   "metadata":{
    "datalore":{
     "node_id":"mkId1P1RkeNVcNTCIj3HHu",
     "type":"MD",
     "hide_input_from_viewers":true,
     "hide_output_from_viewers":true
    }
   }
  },
  {
   "cell_type":"code",
   "source":[
    "pca = PCA()\n",
    "\n",
    "pca.fit(x_train_filtered)\n",
    "\n",
    "explained_variance_ratio = pca.explained_variance_ratio_\n",
    "\n",
    "cumulative_explained_variance = explained_variance_ratio.cumsum()\n",
    "\n",
    "plt.plot(range(1, len(cumulative_explained_variance) + 1), cumulative_explained_variance, marker='o')\n",
    "plt.xlabel('Liczba Komponentów')\n",
    "plt.ylabel('Skumulowany Odsetek Wyjaśnionej Wariancji')\n",
    "plt.title('Skumulowany Odsetek Wyjaśnionej Wariancji w Zależności od Liczby Komponentów')\n",
    "plt.show()"
   ],
   "execution_count":26,
   "outputs":[
    {
     "data":{
      "image\/png":"[encoded data removed]"
     },
     "metadata":{
      "image\/png":{
       
      }
     },
     "output_type":"display_data"
    }
   ],
   "metadata":{
    "datalore":{
     "node_id":"CXGmiv0Lnp8lR8BwwbchVa",
     "type":"CODE",
     "hide_input_from_viewers":true,
     "hide_output_from_viewers":true
    }
   }
  },
  {
   "cell_type":"markdown",
   "source":[
    "## Przygotowanie pipeline do preprocessingu"
   ],
   "attachments":{
    
   },
   "metadata":{
    "datalore":{
     "node_id":"IzX7m2fVwrZiXyiTsO7iJI",
     "type":"MD",
     "hide_input_from_viewers":true,
     "hide_output_from_viewers":true
    }
   }
  },
  {
   "cell_type":"code",
   "source":[
    "preprocessing_pipeline = Pipeline([\n",
    "    ('imputer', SimpleImputer(strategy='mean')),\n",
    "    ('pca', PCA(n_components=170)),\n",
    "    ('scaler', MinMaxScaler())\n",
    "])"
   ],
   "execution_count":27,
   "outputs":[
    
   ],
   "metadata":{
    "datalore":{
     "node_id":"vX0XHdGKJXfN4TNDbRIsfe",
     "type":"CODE",
     "hide_input_from_viewers":true,
     "hide_output_from_viewers":true
    }
   }
  },
  {
   "cell_type":"markdown",
   "source":[
    "## Pomocnicze funkcje do ręcznego trenowania"
   ],
   "attachments":{
    
   },
   "metadata":{
    "datalore":{
     "node_id":"NC74RmZeZxUjfoIPOMjy3h",
     "type":"MD",
     "hide_input_from_viewers":true,
     "hide_output_from_viewers":true
    }
   }
  },
  {
   "cell_type":"code",
   "source":[
    "def params_tuning(pipeline, params: dict,\n",
    "                  x_train_: pd.DataFrame, y_train_: pd.Series,\n",
    "                  n_iter: int = 100,\n",
    "                  random_state: int = None) -> Tuple[Any, dict]:\n",
    "    \"\"\"\n",
    "    Args:\n",
    "        pipeline: The pipeline that contains a model named 'model', whose \n",
    "            hyperparameters are to be optimized.\n",
    "        params: A dictionary containing the hyperparameters to be tuned with \n",
    "            corresponding value ranges or lists.\n",
    "        x_train_: The input features for training the model.\n",
    "        y_train_: The target values for training the model.\n",
    "        n_iter: The number of random combinations of hyperparameters to try.\n",
    "        random_state: Seed for random number generation, ensuring reproducibility.\n",
    "\n",
    "    Returns:\n",
    "        A tuple containing the following:\n",
    "        - The best estimator with the tuned hyperparameters.\n",
    "        - A dictionary of the best hyperparameters found during the search.\n",
    "    \"\"\"\n",
    "    params_optimiser = BayesSearchCV(\n",
    "        estimator=pipeline,\n",
    "        search_spaces=params,\n",
    "        n_iter=n_iter, \n",
    "        scoring='balanced_accuracy',\n",
    "        random_state=random_state,\n",
    "        cv=5, \n",
    "        n_jobs=-1,\n",
    "        verbose=2,\n",
    "    )\n",
    "    params_optimiser.fit(x_train_, y_train_)\n",
    "    return params_optimiser.best_estimator_, params_optimiser.best_params_"
   ],
   "execution_count":28,
   "outputs":[
    
   ],
   "metadata":{
    "datalore":{
     "node_id":"C6aNnw9IA2uQUNEzPeUIez",
     "type":"CODE",
     "hide_input_from_viewers":true,
     "hide_output_from_viewers":true
    }
   }
  },
  {
   "cell_type":"code",
   "source":[
    "class NumpyEncoder(json.JSONEncoder):\n",
    "    def default(self, obj):\n",
    "        if isinstance(obj, np.ndarray):\n",
    "            return obj.tolist()\n",
    "        return json.JSONEncoder.default(self, obj)\n",
    "\n",
    "    \n",
    "def save_params_dict(params: dict, base_name: str, base_path = '.\/params'):\n",
    "    timestamp_ = datetime.now().strftime('%Y%m%d_%H%M%S')\n",
    "    filename_ = f'{base_name}_{timestamp_}.json'\n",
    "    path = os.path.join(base_path, filename_)\n",
    "    os.makedirs(base_path, exist_ok=True)\n",
    "    with open(path, 'w') as file:\n",
    "        json.dump(params, file, indent=2, cls=NumpyEncoder)\n",
    "\n",
    "\n",
    "def read_params_dict(filename_: str) -> dict:\n",
    "    with open(filename_) as file:\n",
    "        result = json.load(file)\n",
    "    return result"
   ],
   "execution_count":29,
   "outputs":[
    
   ],
   "metadata":{
    "datalore":{
     "node_id":"DKQ3tYtMSXsQeSEByle1n6",
     "type":"CODE",
     "hide_input_from_viewers":true,
     "hide_output_from_viewers":true
    }
   }
  },
  {
   "cell_type":"markdown",
   "source":[
    "## XGBoost"
   ],
   "attachments":{
    
   },
   "metadata":{
    "datalore":{
     "node_id":"CjDYJvZvkpNhOcqm7foLRR",
     "type":"MD",
     "hide_input_from_viewers":true,
     "hide_output_from_viewers":true
    }
   }
  },
  {
   "cell_type":"code",
   "source":[
    "from xgboost import XGBClassifier"
   ],
   "execution_count":30,
   "outputs":[
    
   ],
   "metadata":{
    "datalore":{
     "node_id":"rM0Q36VrBH7V8Nbv8mMLqx",
     "type":"CODE",
     "hide_input_from_viewers":true,
     "hide_output_from_viewers":true
    }
   }
  },
  {
   "cell_type":"code",
   "source":[
    "params_xgb = {\n",
    "    \"model__n_estimators\": Integer(100, 2000),\n",
    "    \"model__eta\": Real(0.001, 0.4),\n",
    "    \"model__subsample\": Real(0.1, 1.),\n",
    "    \"model__max_depth\": Integer(3, 250),\n",
    "    \"model__min_child_weight\": Real(1, 2^7),\n",
    "    \"model__colsample_bytree\": Real(0.1, 1.),\n",
    "}"
   ],
   "execution_count":31,
   "outputs":[
    
   ],
   "metadata":{
    "datalore":{
     "node_id":"3nOFPE6jbBeysGruO3LWfc",
     "type":"CODE",
     "hide_input_from_viewers":true,
     "hide_output_from_viewers":true
    }
   }
  },
  {
   "cell_type":"code",
   "source":[
    "xgb_pipe = Pipeline([\n",
    "    ('preprocessing', preprocessing_pipeline),\n",
    "    ('model', XGBClassifier()),\n",
    "])"
   ],
   "execution_count":32,
   "outputs":[
    
   ],
   "metadata":{
    "datalore":{
     "node_id":"rw7QtKko3stJtGKa32Tn5i",
     "type":"CODE",
     "hide_input_from_viewers":true,
     "hide_output_from_viewers":true
    }
   }
  },
  {
   "cell_type":"markdown",
   "source":[
    "### Bayes: 100 iterations"
   ],
   "attachments":{
    
   },
   "metadata":{
    "datalore":{
     "node_id":"TUp8TI5fObb09EmjdMMHTZ",
     "type":"MD",
     "hide_input_from_viewers":true,
     "hide_output_from_viewers":true
    }
   }
  },
  {
   "cell_type":"code",
   "source":[
    "xgb_model, xgb_params = params_tuning(\n",
    "    pipeline=xgb_pipe,\n",
    "    params=params_xgb,\n",
    "    x_train_=x_train_filtered,\n",
    "    y_train_=y_train,\n",
    "    random_state=24,\n",
    "    n_iter=20,\n",
    ")"
   ],
   "execution_count":null,
   "outputs":[
    
   ],
   "metadata":{
    "datalore":{
     "node_id":"p3sJMFP9FOy2b0saj0DUnL",
     "type":"CODE",
     "hide_input_from_viewers":true,
     "hide_output_from_viewers":true
    }
   }
  },
  {
   "cell_type":"code",
   "source":[
    "y_pred = xgb_model.predict(x_train_filtered)\n",
    "calculate_balanced_accuracy(y_train, y_pred)"
   ],
   "execution_count":37,
   "outputs":[
    {
     "data":{
      "text\/plain":[
       "1.0"
      ]
     },
     "metadata":{
      
     },
     "output_type":"display_data"
    }
   ],
   "metadata":{
    "datalore":{
     "node_id":"oysnTOZCmkZp5yti7rwDuW",
     "type":"CODE",
     "hide_input_from_viewers":true,
     "hide_output_from_viewers":true
    }
   }
  },
  {
   "cell_type":"code",
   "source":[
    "y_pred = xgb_model.predict(x_val_filtered)\n",
    "calculate_balanced_accuracy(y_val, y_pred)"
   ],
   "execution_count":38,
   "outputs":[
    {
     "data":{
      "text\/plain":[
       "0.7751879699248121"
      ]
     },
     "metadata":{
      
     },
     "output_type":"display_data"
    }
   ],
   "metadata":{
    "datalore":{
     "node_id":"WJr5OUttwyDm8yD3gfNaER",
     "type":"CODE",
     "hide_input_from_viewers":true,
     "hide_output_from_viewers":true
    }
   }
  },
  {
   "cell_type":"code",
   "source":[
    "# save params for later\n",
    "save_params_dict(xgb_params, 'xgb_params_100iter')"
   ],
   "execution_count":null,
   "outputs":[
    
   ],
   "metadata":{
    "datalore":{
     "node_id":"N8oou6XJ1ChM4HPQ9YMGzS",
     "type":"CODE",
     "hide_input_from_viewers":true,
     "hide_output_from_viewers":true
    }
   }
  },
  {
   "cell_type":"code",
   "source":[
    "# load saved params\n",
    "# CAREFUL: running this will overwrite currently trained model\n",
    "# change False to True if you really wish to run this\n",
    "if False:\n",
    "    xgb_params = read_params_dict('params\/xgb_params_100iter_20231227_164032.json')\n",
    "    xgb_model = Pipeline([\n",
    "        ('preprocessing', preprocessing_pipeline),\n",
    "        ('model', XGBClassifier()),\n",
    "    ])\n",
    "    xgb_model.set_params(**xgb_params)\n",
    "    xgb_model.fit(x_train_filtered, y_train)"
   ],
   "execution_count":35,
   "outputs":[
    
   ],
   "metadata":{
    "datalore":{
     "node_id":"EtpxWYN2jKKf14yfqot4Q2",
     "type":"CODE",
     "hide_input_from_viewers":true,
     "hide_output_from_viewers":true
    }
   }
  },
  {
   "cell_type":"code",
   "source":[
    "save_prediction(\n",
    "    pred_func=xgb_model.predict_proba,\n",
    "    save_path='predictions\/xgb_100iter.txt',\n",
    "    test_data=x_test_filtered,\n",
    ")"
   ],
   "execution_count":36,
   "outputs":[
    
   ],
   "metadata":{
    "datalore":{
     "node_id":"eZ050XOvchEHURyt9NvtIs",
     "type":"CODE",
     "hide_input_from_viewers":true,
     "hide_output_from_viewers":true
    }
   }
  },
  {
   "cell_type":"markdown",
   "source":[
    "## RandomForestClassifier"
   ],
   "attachments":{
    
   },
   "metadata":{
    "datalore":{
     "node_id":"5ad5L9Nnl87M2pzi4TZydz",
     "type":"MD",
     "hide_input_from_viewers":true,
     "hide_output_from_viewers":true
    }
   }
  },
  {
   "cell_type":"code",
   "source":[
    "from sklearn.ensemble import RandomForestClassifier"
   ],
   "execution_count":39,
   "outputs":[
    
   ],
   "metadata":{
    "datalore":{
     "node_id":"AMaUFz686h3Vy0psWTF6C5",
     "type":"CODE",
     "hide_input_from_viewers":true,
     "hide_output_from_viewers":true
    }
   }
  },
  {
   "cell_type":"code",
   "source":[
    "params_rf = {\n",
    "    \"model__n_estimators\": Integer(100, 2000),\n",
    "    \"model__max_depth\": Integer(3, 250),\n",
    "    \"model__max_features\": Real(1e-6, 1),\n",
    "    \"model__max_samples\": Real(1e-6, 1),\n",
    "    \"model__min_samples_leaf\": Real(0.1, 0.5),\n",
    "}"
   ],
   "execution_count":40,
   "outputs":[
    
   ],
   "metadata":{
    "datalore":{
     "node_id":"6qX4JjsXNP6jXpZ3mOQfzi",
     "type":"CODE",
     "hide_input_from_viewers":true,
     "hide_output_from_viewers":true
    }
   }
  },
  {
   "cell_type":"code",
   "source":[
    "rf_pipe = Pipeline([\n",
    "    ('preprocessing', preprocessing_pipeline),\n",
    "    ('model', RandomForestClassifier()),\n",
    "])"
   ],
   "execution_count":41,
   "outputs":[
    
   ],
   "metadata":{
    "datalore":{
     "node_id":"8Yl9bAgj06Gf6mAkTuu8Wk",
     "type":"CODE",
     "hide_input_from_viewers":true,
     "hide_output_from_viewers":true
    }
   }
  },
  {
   "cell_type":"code",
   "source":[
    "rf_model, rf_params = params_tuning(\n",
    "    pipeline=rf_pipe,\n",
    "    params=params_rf,\n",
    "    x_train_=x_train_filtered,\n",
    "    y_train_=y_train,\n",
    "    random_state=26,\n",
    "    n_iter=100,\n",
    ")"
   ],
   "execution_count":null,
   "outputs":[
    
   ],
   "metadata":{
    "datalore":{
     "node_id":"kJRVg8UCZ7qYx6qWsN0DU3",
     "type":"CODE",
     "hide_input_from_viewers":true,
     "hide_output_from_viewers":true
    }
   }
  },
  {
   "cell_type":"code",
   "source":[
    "y_pred = rf_model.predict(x_train_filtered)\n",
    "calculate_balanced_accuracy(y_train, y_pred)"
   ],
   "execution_count":45,
   "outputs":[
    {
     "data":{
      "text\/plain":[
       "0.6278481012658228"
      ]
     },
     "metadata":{
      
     },
     "output_type":"display_data"
    }
   ],
   "metadata":{
    "datalore":{
     "node_id":"Qo2NlfkvU84AHPvJOtT16H",
     "type":"CODE",
     "hide_input_from_viewers":true,
     "hide_output_from_viewers":true
    }
   }
  },
  {
   "cell_type":"code",
   "source":[
    "y_pred = rf_model.predict(x_val_filtered)\n",
    "calculate_balanced_accuracy(y_val, y_pred)"
   ],
   "execution_count":46,
   "outputs":[
    {
     "data":{
      "text\/plain":[
       "0.6395989974937344"
      ]
     },
     "metadata":{
      
     },
     "output_type":"display_data"
    }
   ],
   "metadata":{
    "datalore":{
     "node_id":"OF7xsRKltQMs5nqNNGCjFR",
     "type":"CODE",
     "hide_input_from_viewers":true,
     "hide_output_from_viewers":true
    }
   }
  },
  {
   "cell_type":"code",
   "source":[
    "save_params_dict(rf_params, 'rf_params')"
   ],
   "execution_count":31,
   "outputs":[
    
   ],
   "metadata":{
    "datalore":{
     "node_id":"ibN4UC6TKK1sjFnIuoUI4J",
     "type":"CODE",
     "hide_input_from_viewers":true,
     "hide_output_from_viewers":true
    }
   }
  },
  {
   "cell_type":"code",
   "source":[
    "# load saved params\n",
    "# CAREFUL: running this will overwrite currently trained model\n",
    "# change False to True if you really wish to run this\n",
    "if False:\n",
    "    rf_params = read_params_dict('params\/rf_params_20231226_165340.json')\n",
    "    rf_model = Pipeline([\n",
    "        ('preprocessing', preprocessing_pipeline),\n",
    "        ('model', RandomForestClassifier()),\n",
    "    ])\n",
    "    rf_model.set_params(**rf_params)\n",
    "    rf_model.fit(x_train_filtered, y_train)"
   ],
   "execution_count":43,
   "outputs":[
    
   ],
   "metadata":{
    "datalore":{
     "node_id":"hKItpcHwOk7eoD9geEYqug",
     "type":"CODE",
     "hide_input_from_viewers":true,
     "hide_output_from_viewers":true
    }
   }
  },
  {
   "cell_type":"code",
   "source":[
    "save_prediction(rf_model.predict_proba,\"predictions\/rf_proba.txt\", x_test_filtered)"
   ],
   "execution_count":44,
   "outputs":[
    
   ],
   "metadata":{
    "datalore":{
     "node_id":"C7yv5JRM70BX3jTg6fbBbY",
     "type":"CODE",
     "hide_input_from_viewers":true,
     "hide_output_from_viewers":true
    }
   }
  },
  {
   "cell_type":"markdown",
   "source":[
    "## Sieć neuronowa"
   ],
   "attachments":{
    
   },
   "metadata":{
    "datalore":{
     "node_id":"obTnL9jNuIdGp44ImpKZ5w",
     "type":"MD",
     "hide_input_from_viewers":true,
     "hide_output_from_viewers":true
    }
   }
  },
  {
   "cell_type":"code",
   "source":[
    "import torch\n",
    "import torch.nn as nn\n",
    "import torch.optim as optim\n",
    "from torch.utils.data import DataLoader, TensorDataset"
   ],
   "execution_count":37,
   "outputs":[
    
   ],
   "metadata":{
    "datalore":{
     "node_id":"cZJBAscRkplNjTmhCrM7Xv",
     "type":"CODE",
     "hide_input_from_viewers":true,
     "hide_output_from_viewers":true
    }
   }
  },
  {
   "cell_type":"code",
   "source":[
    "class MLP(nn.Module):\n",
    "    def __init__(self, input_size):\n",
    "        super(MLP, self).__init__()\n",
    "        layer_1 = 512\n",
    "        layer_2 = 512\n",
    "        layer_out = 2\n",
    "        self.network = nn.Sequential(\n",
    "            nn.Linear(input_size, layer_1),\n",
    "            nn.ReLU(),\n",
    "            nn.Linear(layer_1, layer_2),\n",
    "            nn.ReLU(),\n",
    "            nn.Linear(layer_2, layer_out),\n",
    "            nn.Softmax(dim=1),\n",
    "        )\n",
    "    \n",
    "    def forward(self, x):\n",
    "        return self.network(x)"
   ],
   "execution_count":38,
   "outputs":[
    
   ],
   "metadata":{
    "datalore":{
     "node_id":"kIOPsDYlGiSLlxQMnSwhTC",
     "type":"CODE",
     "hide_input_from_viewers":true,
     "hide_output_from_viewers":true
    }
   }
  },
  {
   "cell_type":"code",
   "source":[
    "def train_model(model, criterion, optimizer, train_loader, num_epochs, x_train, y_train, x_val, y_val):\n",
    "    device = torch.device(\"cuda\" if torch.cuda.is_available() else \"cpu\")\n",
    "    model.to(device)\n",
    "\n",
    "    accuracy_val = []\n",
    "    accuracy_train = []\n",
    "\n",
    "    for epoch in range(1, num_epochs + 1):\n",
    "        for batch_X, batch_y in train_loader:\n",
    "            batch_X, batch_y = batch_X.to(device), batch_y.to(device)\n",
    "            \n",
    "            outputs = model(batch_X)\n",
    "            loss = criterion(outputs, batch_y.reshape(-1, 1))\n",
    "            optimizer.zero_grad()\n",
    "            loss.backward()\n",
    "            optimizer.step()\n",
    "\n",
    "        if epoch % 100 == 0:\n",
    "            print(f'Epoch {epoch}\/{num_epochs}')\n",
    "            print('Train loss: ', loss.item())\n",
    "\n",
    "            x_train_tensor = torch.tensor(x_train, dtype=torch.float32).to(device)\n",
    "            x_val_tensor = torch.tensor(x_val, dtype=torch.float32).to(device)\n",
    "\n",
    "            y_pred_train = model(x_train_tensor).reshape(-1).cpu().detach().numpy().round()\n",
    "            y_pred_val = model(x_val_tensor).reshape(-1).cpu().detach().numpy().round()\n",
    "\n",
    "            train_balanced_acc = calculate_balanced_accuracy(y_train, y_pred_train)\n",
    "            val_balanced_acc = calculate_balanced_accuracy(y_val, y_pred_val)\n",
    "\n",
    "            print(f'Train balanced accuracy: {train_balanced_acc:.4f}')\n",
    "            print(f'Validation balanced accuracy: {val_balanced_acc:.4f}')\n",
    "            print()\n",
    "\n",
    "            accuracy_train.append(train_balanced_acc)\n",
    "            accuracy_val.append(val_balanced_acc)\n",
    "\n",
    "    # Save network after training\n",
    "    timestamp = datetime.now().strftime('%Y%m%d_%H%M%S')\n",
    "    model_path = os.path.join('torch_network', f'mlp_model_{timestamp}_{epoch}.pth')\n",
    "    torch.save(model.state_dict(), model_path)\n",
    "\n",
    "    return accuracy_train, accuracy_val"
   ],
   "execution_count":41,
   "outputs":[
    
   ],
   "metadata":{
    "datalore":{
     "node_id":"GHHkSypp5iepMD2rCQutL3",
     "type":"CODE",
     "hide_input_from_viewers":true,
     "hide_output_from_viewers":true
    }
   }
  },
  {
   "cell_type":"code",
   "source":[
    "x_train_processed = preprocessing_pipeline.fit_transform(x_train)\n",
    "x_val_processed = preprocessing_pipeline.transform(x_val)\n",
    "x_test_processed = preprocessing_pipeline.transform(x_test)\n",
    "\n",
    "x_train_tensor = torch.tensor(x_train_processed, dtype=torch.float32)\n",
    "y_train_tensor = torch.tensor(y_train, dtype=torch.float32)\n",
    "\n",
    "x_val_tensor = torch.tensor(x_val_processed, dtype=torch.float32)\n",
    "y_val_tensor = torch.tensor(y_val, dtype=torch.float32)\n",
    "\n",
    "x_test_tensor = torch.tensor(x_test_processed, dtype=torch.float32)\n",
    "\n",
    "train_dataset = TensorDataset(x_train_tensor, y_train_tensor)\n",
    "\n",
    "train_loader = DataLoader(train_dataset, batch_size=128, shuffle=True)"
   ],
   "execution_count":40,
   "outputs":[
    
   ],
   "metadata":{
    "datalore":{
     "node_id":"q1EqPLdSFz3LTGO2tnYNgQ",
     "type":"CODE",
     "hide_input_from_viewers":true,
     "hide_output_from_viewers":true
    }
   }
  },
  {
   "cell_type":"code",
   "source":[
    "# przykladowe wywolanie:\n",
    "mlp_model = MLP(input_size=170)\n",
    "criterion = nn.BCELoss()\n",
    "optimizer = optim.SGD(mlp_model.parameters(), lr=0.01, weight_decay=0.01)\n",
    "acc_train, acc_val = train_model(mlp_model, criterion, optimizer, train_loader, num_epochs=10000, \n",
    "                        x_train=x_train_processed, y_train=y_train, x_val=x_val_processed, \n",
    "                        y_val=y_val)"
   ],
   "execution_count":46,
   "outputs":[
    
   ],
   "metadata":{
    "datalore":{
     "node_id":"NX6UreLuAx6emRUXhftDWS",
     "type":"CODE",
     "hide_input_from_viewers":true,
     "hide_output_from_viewers":true
    }
   }
  },
  {
   "cell_type":"code",
   "source":[
    "save_prediction(mlp_model.predict_proba,\"predictions\/mlp_proba.txt\", x_test_processed)"
   ],
   "execution_count":null,
   "outputs":[
    
   ],
   "metadata":{
    "datalore":{
     "node_id":"8opRDNYMxkqG5tQmN2COLW",
     "type":"CODE",
     "hide_input_from_viewers":true,
     "hide_output_from_viewers":true
    }
   }
  },
  {
   "cell_type":"markdown",
   "source":[
    "# 2. Wariant AutoML"
   ],
   "attachments":{
    
   },
   "metadata":{
    "datalore":{
     "node_id":"v5ToUJRAfTDEG2sFzbuv9f",
     "type":"MD",
     "hide_input_from_viewers":true,
     "hide_output_from_viewers":true
    }
   }
  },
  {
   "cell_type":"markdown",
   "source":[
    "## MLJar"
   ],
   "attachments":{
    
   },
   "metadata":{
    "datalore":{
     "node_id":"JZvs6wNIx9uikTDzz0yDmT",
     "type":"MD",
     "hide_input_from_viewers":true,
     "hide_output_from_viewers":true
    }
   }
  },
  {
   "cell_type":"code",
   "source":[
    "from supervised import AutoML as AutoMLJar"
   ],
   "execution_count":47,
   "outputs":[
    
   ],
   "metadata":{
    "datalore":{
     "node_id":"jdhgu7FYqbb52TMw1CnktI",
     "type":"CODE",
     "hide_input_from_viewers":true,
     "hide_output_from_viewers":true
    }
   }
  },
  {
   "cell_type":"code",
   "source":[
    "mljar_predictor = AutoMLJar(\n",
    "    mode='Compete',\n",
    "    results_path='mljar_results\/',\n",
    "    total_time_limit=60 * 60 * 24,\n",
    "    random_state=24,\n",
    "    eval_metric='logloss',\n",
    ")"
   ],
   "execution_count":48,
   "outputs":[
    
   ],
   "metadata":{
    "datalore":{
     "node_id":"HgdziV2TMpXRV5SfluB7MD",
     "type":"CODE",
     "hide_input_from_viewers":true,
     "hide_output_from_viewers":true
    }
   }
  },
  {
   "cell_type":"code",
   "source":[
    "mljar_predictor.fit(x_train, y_train)"
   ],
   "execution_count":null,
   "outputs":[
    
   ],
   "metadata":{
    "datalore":{
     "node_id":"eUcW4mgHTnbAwEmnocUaPc",
     "type":"CODE",
     "hide_input_from_viewers":true,
     "hide_output_from_viewers":true
    }
   }
  },
  {
   "cell_type":"code",
   "source":[
    "y_pred = mljar_predictor.predict(x_train)\n",
    "calculate_balanced_accuracy(y_train, y_pred)"
   ],
   "execution_count":1,
   "outputs":[
    
   ],
   "metadata":{
    "datalore":{
     "node_id":"C9jQP5KDH6dscXzfXJy4Sj",
     "type":"CODE",
     "hide_input_from_viewers":true,
     "hide_output_from_viewers":true
    }
   }
  },
  {
   "cell_type":"code",
   "source":[
    "y_pred = mljar_predictor.predict(x_val)\n",
    "calculate_balanced_accuracy(y_val, y_pred)"
   ],
   "execution_count":null,
   "outputs":[
    
   ],
   "metadata":{
    "datalore":{
     "node_id":"HuXv2OrvpGOhexhKUVXIPk",
     "type":"CODE",
     "hide_input_from_viewers":true,
     "hide_output_from_viewers":true
    }
   }
  },
  {
   "cell_type":"code",
   "source":[
    "save_prediction(\n",
    "    pred_func=mljar_predictor.predict_proba,\n",
    "    save_path='predictions\/mljar.txt',\n",
    "    test_data=x_test,\n",
    ")"
   ],
   "execution_count":null,
   "outputs":[
    
   ],
   "metadata":{
    "datalore":{
     "node_id":"3iHMUEAbu47o4yUIU68FjP",
     "type":"CODE",
     "hide_input_from_viewers":true,
     "hide_output_from_viewers":true
    }
   }
  },
  {
   "cell_type":"markdown",
   "source":[
    "## AutoGluon"
   ],
   "attachments":{
    
   },
   "metadata":{
    "datalore":{
     "node_id":"5r8VMSYdjuhc6bCdep6crV",
     "type":"MD",
     "hide_input_from_viewers":true,
     "hide_output_from_viewers":true
    }
   }
  },
  {
   "cell_type":"code",
   "source":[
    "from autogluon.tabular import TabularPredictor"
   ],
   "execution_count":8,
   "outputs":[
    
   ],
   "metadata":{
    "datalore":{
     "node_id":"NyP8t8o3urJ9pJeS6DRBoZ",
     "type":"CODE",
     "hide_input_from_viewers":true,
     "hide_output_from_viewers":true
    }
   }
  },
  {
   "cell_type":"code",
   "source":[
    "data_train_gluon = x_train.copy()\n",
    "data_train_gluon['target'] = y_train\n",
    "data_val_gluon = x_val.copy()\n",
    "data_val_gluon['target'] = y_val"
   ],
   "execution_count":11,
   "outputs":[
    
   ],
   "metadata":{
    "datalore":{
     "node_id":"mFlUcX4j4NnO04I4izm7cf",
     "type":"CODE",
     "hide_input_from_viewers":true,
     "hide_output_from_viewers":true
    }
   }
  },
  {
   "cell_type":"code",
   "source":[
    "gluon_predictor = TabularPredictor(label='target', eval_metric='balanced_accuracy')\n",
    "gluon_predictor.fit(data_train_gluon, presets='high_quality', time_limit=60*60*24)"
   ],
   "execution_count":12,
   "outputs":[
    
   ],
   "metadata":{
    "datalore":{
     "node_id":"LrqscR7Zle0ZRuzf5GWFjH",
     "type":"CODE",
     "hide_input_from_viewers":true,
     "hide_output_from_viewers":true
    }
   }
  },
  {
   "cell_type":"code",
   "source":[
    "y_pred = gluon_predictor.predict(x_train)\n",
    "calculate_balanced_accuracy(y_train, y_pred)"
   ],
   "execution_count":14,
   "outputs":[
    
   ],
   "metadata":{
    "datalore":{
     "node_id":"IRlFXixzNYIVXkLsLnOhCY",
     "type":"CODE",
     "hide_input_from_viewers":true,
     "hide_output_from_viewers":true
    }
   }
  },
  {
   "cell_type":"code",
   "source":[
    "y_pred = gluon_predictor.predict(x_val)\n",
    "calculate_balanced_accuracy(y_val, y_pred)"
   ],
   "execution_count":15,
   "outputs":[
    
   ],
   "metadata":{
    "datalore":{
     "node_id":"9gts0rRMkKicCwDPUjgRWv",
     "type":"CODE",
     "hide_input_from_viewers":true,
     "hide_output_from_viewers":true
    }
   }
  },
  {
   "cell_type":"code",
   "source":[
    "# local loading gluon\n",
    "gluon_predictor = TabularPredictor.load(\"ag-20231229_201739\")\n",
    "y_pred = gluon_predictor.predict(x_test)\n",
    "#best score on val set 0.870863498584634"
   ],
   "execution_count":12,
   "outputs":[
    {
     "name":"stderr",
     "text":[
      "\n",
      "############################## WARNING ##############################\n",
      "WARNING: AutoGluon version differs from the version used to create the predictor! This may lead to instability and it is highly recommended the predictor be loaded with the exact AutoGluon version it was created with.\n",
      "\tPredictor Version: 1.0.0\n",
      "\tCurrent Version:   1.0.1b20231205\n",
      "############################## WARNING ##############################\n",
      "\n"
     ],
     "output_type":"stream"
    },
    {
     "ename":"AssertionError",
     "evalue":"AssertionError: Predictor was created on version 1.0.0 but is being loaded with version 1.0.1b20231205. Please ensure the versions match to avoid instability. While it is NOT recommended, this error can be bypassed by specifying `require_version_match=False`.",
     "traceback":[
      "\u001b[0;31m---------------------------------------------------------------------------",
      "Traceback (most recent call last)",
      "    at line 2 in <module>",
      "    at line 4144 in load(cls, path, verbosity, require_version_match, require_py_version_match, check_packages)",
      "    at line 162 in check_saved_predictor_version(version_current, version_saved, require_version_match, logger)",
      "AssertionError: Predictor was created on version 1.0.0 but is being loaded with version 1.0.1b20231205. Please ensure the versions match to avoid instability. While it is NOT recommended, this error can be bypassed by specifying `require_version_match=False`."
     ],
     "output_type":"error"
    }
   ],
   "metadata":{
    "datalore":{
     "node_id":"hhW5k8SUtmdBvyjAHmCmif",
     "type":"CODE",
     "hide_input_from_viewers":true,
     "hide_output_from_viewers":true
    }
   }
  },
  {
   "cell_type":"code",
   "source":[
    "y_pred"
   ],
   "execution_count":13,
   "outputs":[
    {
     "ename":"NameError",
     "evalue":"NameError: name 'y_pred' is not defined",
     "traceback":[
      "\u001b[0;31m---------------------------------------------------------------------------",
      "Traceback (most recent call last)",
      "    at line 1 in <module>",
      "NameError: name 'y_pred' is not defined"
     ],
     "output_type":"error"
    }
   ],
   "metadata":{
    "datalore":{
     "node_id":"RoEXdxZtwhjWsalKOMgiql",
     "type":"CODE",
     "hide_input_from_viewers":true,
     "hide_output_from_viewers":true
    }
   }
  },
  {
   "cell_type":"code",
   "source":[
    "save_prediction(\n",
    "    pred_func=gluon_predictor.predict_proba,\n",
    "    save_path='predictions\/gluon.txt',\n",
    "    test_data=x_test,\n",
    ")"
   ],
   "execution_count":null,
   "outputs":[
    
   ],
   "metadata":{
    "datalore":{
     "node_id":"akTZesJswvwGj91iI95nFu",
     "type":"CODE",
     "hide_input_from_viewers":true,
     "hide_output_from_viewers":true
    }
   }
  }
 ],
 "metadata":{
  "kernelspec":{
   "display_name":"Python",
   "language":"python",
   "name":"python"
  },
  "datalore":{
   "computation_mode":"JUPYTER",
   "package_manager":"pip",
   "base_environment":"default",
   "packages":[
    {
     "name":"scikit-optimize",
     "version":"0.9.0",
     "source":"PIP"
    },
    {
     "name":"autogluon",
     "version":"1.0.1b20231205",
     "source":"PIP"
    },
    {
     "name":"mljar-supervised",
     "version":"1.1.1",
     "source":"PIP"
    }
   ],
   "report_row_ids":[
    
   ],
   "version":3
  }
 },
 "nbformat":4,
 "nbformat_minor":4
}